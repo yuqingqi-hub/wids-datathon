{
 "cells": [
  {
   "cell_type": "code",
   "execution_count": 20,
   "id": "19683772-3730-40e6-9d06-0b39d0feef3a",
   "metadata": {},
   "outputs": [
    {
     "name": "stdout",
     "output_type": "stream",
     "text": [
      "✅ Submission saved as baseline_submission.csv\n"
     ]
    }
   ],
   "source": [
    "# ================= Imports =================\n",
    "import pandas as pd\n",
    "import numpy as np\n",
    "from sklearn.preprocessing import StandardScaler\n",
    "from sklearn.ensemble import RandomForestClassifier\n",
    "from sklearn.multioutput import MultiOutputClassifier\n",
    "\n",
    "# ================= Load Data =================\n",
    "train_feature_path = \"/Users/jingyuanchen/Desktop/WiDS/TRAIN_NEW/TRAIN_FUNCTIONAL_CONNECTOME_MATRICES_new_36P_Pearson.csv\"\n",
    "train_label_path = \"/Users/jingyuanchen/Desktop/WiDS/TRAIN_NEW/TRAINING_SOLUTIONS.xlsx\"\n",
    "test_feature_path = \"/Users/jingyuanchen/Desktop/WiDS/TEST/TEST_FUNCTIONAL_CONNECTOME_MATRICES.csv\"\n",
    "\n",
    "# 加载特征和标签\n",
    "df_train = pd.read_csv(train_feature_path)\n",
    "df_labels = pd.read_excel(train_label_path)\n",
    "df_test = pd.read_csv(test_feature_path)\n",
    "\n",
    "# ================= Merge Labels =================\n",
    "# 合并标签\n",
    "df = df_train.merge(df_labels, on=\"participant_id\")\n",
    "X = df.drop(columns=[\"participant_id\", \"ADHD_Outcome\", \"Sex_F\"])\n",
    "y = df[[\"ADHD_Outcome\", \"Sex_F\"]]\n",
    "X_test = df_test.drop(columns=[\"participant_id\"])\n",
    "test_ids = df_test[\"participant_id\"]\n",
    "\n",
    "# ================= Preprocessing =================\n",
    "# 缺失值填补 & 标准化\n",
    "X.fillna(X.median(), inplace=True)\n",
    "X_test.fillna(X_test.median(), inplace=True)\n",
    "\n",
    "scaler = StandardScaler()\n",
    "X_scaled = scaler.fit_transform(X)\n",
    "X_test_scaled = scaler.transform(X_test)\n",
    "\n",
    "# ================= Baseline Model =================\n",
    "rf = RandomForestClassifier(n_estimators=100, random_state=42)\n",
    "model = MultiOutputClassifier(rf)\n",
    "model.fit(X_scaled, y)\n",
    "\n",
    "# ================= Prediction =================\n",
    "preds = model.predict(X_test_scaled)\n",
    "\n",
    "# ================= Submission =================\n",
    "submission = pd.DataFrame({\n",
    "    \"participant_id\": test_ids,\n",
    "    \"ADHD_Outcome\": preds[:, 0],\n",
    "    \"Sex_F\": preds[:, 1]\n",
    "})\n",
    "submission.to_csv(\"baseline_submission.csv\", index=False)\n",
    "print(\"✅ Submission saved as baseline_submission.csv\")\n"
   ]
  },
  {
   "cell_type": "code",
   "execution_count": null,
   "id": "10fa6ebd-8145-4304-b472-2cd7420f7610",
   "metadata": {},
   "outputs": [],
   "source": []
  }
 ],
 "metadata": {
  "kernelspec": {
   "display_name": "Python 3 (ipykernel)",
   "language": "python",
   "name": "python3"
  },
  "language_info": {
   "codemirror_mode": {
    "name": "ipython",
    "version": 3
   },
   "file_extension": ".py",
   "mimetype": "text/x-python",
   "name": "python",
   "nbconvert_exporter": "python",
   "pygments_lexer": "ipython3",
   "version": "3.11.7"
  }
 },
 "nbformat": 4,
 "nbformat_minor": 5
}
